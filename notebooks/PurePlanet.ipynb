{
 "cells": [
  {
   "cell_type": "markdown",
   "metadata": {
    "slideshow": {
     "slide_type": "slide"
    }
   },
   "source": [
    "# Pure Planet - Analysis of Website Metrics\n",
    "\n",
    "### Connor Goddard\n",
    "\n",
    "**6th August 2018**\n",
    "\n",
    "Source: [Github](https://github.com/cgddrd/pureplanet)"
   ]
  },
  {
   "cell_type": "markdown",
   "metadata": {
    "slideshow": {
     "slide_type": "slide"
    }
   },
   "source": [
    "### Brief\n",
    "\n",
    "Analyse usage metrics across Pure Planet website to derive insight to answer the following:\n",
    "\n",
    "1. What was each channel’s contribution to app store visits and saved quotes over time?\n",
    "2. How does quote conversion vary by channel?\n",
    "3. Which channel is most critical?"
   ]
  },
  {
   "cell_type": "code",
   "execution_count": 1,
   "metadata": {
    "slideshow": {
     "slide_type": "skip"
    }
   },
   "outputs": [
    {
     "name": "stderr",
     "output_type": "stream",
     "text": [
      "/usr/lib/python3.6/importlib/_bootstrap.py:219: RuntimeWarning: numpy.dtype size changed, may indicate binary incompatibility. Expected 96, got 88\n",
      "  return f(*args, **kwds)\n",
      "/usr/lib/python3.6/importlib/_bootstrap.py:219: RuntimeWarning: numpy.dtype size changed, may indicate binary incompatibility. Expected 96, got 88\n",
      "  return f(*args, **kwds)\n"
     ]
    }
   ],
   "source": [
    "import numpy as np\n",
    "import pandas as pd\n",
    "import plotly.plotly as py\n",
    "import utils\n",
    "import matplotlib.pyplot as plt\n",
    "\n",
    "utils.init_plotly(username='cgddrd', api_key='F7STNJas2eDGiBpOva9a')"
   ]
  },
  {
   "cell_type": "markdown",
   "metadata": {
    "slideshow": {
     "slide_type": "slide"
    }
   },
   "source": [
    "## Data Exploration"
   ]
  },
  {
   "cell_type": "code",
   "execution_count": 2,
   "metadata": {
    "slideshow": {
     "slide_type": "fragment"
    }
   },
   "outputs": [
    {
     "data": {
      "text/html": [
       "<div>\n",
       "<style scoped>\n",
       "    .dataframe tbody tr th:only-of-type {\n",
       "        vertical-align: middle;\n",
       "    }\n",
       "\n",
       "    .dataframe tbody tr th {\n",
       "        vertical-align: top;\n",
       "    }\n",
       "\n",
       "    .dataframe thead th {\n",
       "        text-align: right;\n",
       "    }\n",
       "</style>\n",
       "<table border=\"1\" class=\"dataframe\">\n",
       "  <thead>\n",
       "    <tr style=\"text-align: right;\">\n",
       "      <th></th>\n",
       "      <th>category</th>\n",
       "      <th>metric</th>\n",
       "      <th>value</th>\n",
       "    </tr>\n",
       "    <tr>\n",
       "      <th>date</th>\n",
       "      <th></th>\n",
       "      <th></th>\n",
       "      <th></th>\n",
       "    </tr>\n",
       "  </thead>\n",
       "  <tbody>\n",
       "    <tr>\n",
       "      <th>2017-12-04</th>\n",
       "      <td>Branded Search</td>\n",
       "      <td>app_store</td>\n",
       "      <td>65</td>\n",
       "    </tr>\n",
       "    <tr>\n",
       "      <th>2017-12-04</th>\n",
       "      <td>Branded Search</td>\n",
       "      <td>complete_quote</td>\n",
       "      <td>437</td>\n",
       "    </tr>\n",
       "    <tr>\n",
       "      <th>2017-12-04</th>\n",
       "      <td>Branded Search</td>\n",
       "      <td>save_quote</td>\n",
       "      <td>165</td>\n",
       "    </tr>\n",
       "    <tr>\n",
       "      <th>2017-12-04</th>\n",
       "      <td>Branded Search</td>\n",
       "      <td>start_quote</td>\n",
       "      <td>491</td>\n",
       "    </tr>\n",
       "    <tr>\n",
       "      <th>2017-12-04</th>\n",
       "      <td>Branded Search</td>\n",
       "      <td>visitors</td>\n",
       "      <td>901</td>\n",
       "    </tr>\n",
       "  </tbody>\n",
       "</table>\n",
       "</div>"
      ],
      "text/plain": [
       "                  category          metric  value\n",
       "date                                             \n",
       "2017-12-04  Branded Search       app_store     65\n",
       "2017-12-04  Branded Search  complete_quote    437\n",
       "2017-12-04  Branded Search      save_quote    165\n",
       "2017-12-04  Branded Search     start_quote    491\n",
       "2017-12-04  Branded Search        visitors    901"
      ]
     },
     "execution_count": 2,
     "metadata": {},
     "output_type": "execute_result"
    }
   ],
   "source": [
    "df = pd.read_csv('../data/raw/ga.csv', header=0, parse_dates=['date'], date_parser=utils.parse_csv_date, index_col='date')\n",
    "df.head(5)"
   ]
  },
  {
   "cell_type": "code",
   "execution_count": 3,
   "metadata": {
    "slideshow": {
     "slide_type": "subslide"
    }
   },
   "outputs": [
    {
     "name": "stdout",
     "output_type": "stream",
     "text": [
      "There are 390 records in the dataset, spanning across 13 weeks from 04 Dec 2017 to 26 Feb 2018.\n"
     ]
    }
   ],
   "source": [
    "count = len(df)\n",
    "no_of_weeks = len(df.groupby(pd.Grouper(freq='W')))\n",
    "min_date = df.index.min().strftime('%d %b %Y')\n",
    "max_date = df.index.max().strftime('%d %b %Y')\n",
    "\n",
    "print('There are %d records in the dataset, spanning across %d weeks from %s to %s.' % (count, no_of_weeks, min_date, max_date))"
   ]
  },
  {
   "cell_type": "code",
   "execution_count": 4,
   "metadata": {
    "slideshow": {
     "slide_type": "subslide"
    }
   },
   "outputs": [
    {
     "name": "stdout",
     "output_type": "stream",
     "text": [
      "Categories:\n",
      "Branded Search, Direct Traffic, Generic Search, Organic, Paid search, Referral link\n",
      "\n",
      "Metrics:\n",
      "app_store, complete_quote, save_quote, start_quote, visitors\n"
     ]
    }
   ],
   "source": [
    "categories = df['category'].unique()\n",
    "metrics = df['metric'].unique()\n",
    "\n",
    "print('Categories:')\n",
    "print(*categories, sep = \", \") \n",
    "print('\\nMetrics:')\n",
    "print(*metrics, sep = \", \") "
   ]
  },
  {
   "cell_type": "code",
   "execution_count": 5,
   "metadata": {
    "slideshow": {
     "slide_type": "skip"
    }
   },
   "outputs": [],
   "source": [
    "colors = ['rgb(32,155,160)', \n",
    "          'rgb(253,93,124)', \n",
    "          'rgb(28,119,139)', \n",
    "          'rgb(182,231,235)', \n",
    "          'rgb(35,154,160)', \n",
    "          'rgb(35,154,2)']"
   ]
  },
  {
   "cell_type": "markdown",
   "metadata": {
    "slideshow": {
     "slide_type": "slide"
    }
   },
   "source": [
    "## Understanding user flow through quote process"
   ]
  },
  {
   "cell_type": "code",
   "execution_count": 6,
   "metadata": {
    "slideshow": {
     "slide_type": "fragment"
    }
   },
   "outputs": [],
   "source": [
    "# group dataset by metrics (i.e. each stage of the quote process), sum counts and sort by counts largest to smallest.\n",
    "data = df.groupby(['metric'])['value'].sum().sort_values(ascending=False)\n",
    "\n",
    "# remove any data for the 'app_store' metric. We aren't interested in this for the funnel chart.\n",
    "data = data[~data.index.str.contains(\"app_store\")]\n",
    "\n",
    "fig_metrics_funnel = utils.plot_funnel_chart(data, colors, 'Metrics Funnel')"
   ]
  },
  {
   "cell_type": "code",
   "execution_count": 7,
   "metadata": {
    "slideshow": {
     "slide_type": "subslide"
    }
   },
   "outputs": [
    {
     "data": {
      "text/html": [
       "<iframe id=\"igraph\" scrolling=\"no\" style=\"border:none;\" seamless=\"seamless\" src=\"https://plot.ly/~cgddrd/286.embed\" height=\"560px\" width=\"800px\"></iframe>"
      ],
      "text/plain": [
       "<plotly.tools.PlotlyDisplay object>"
      ]
     },
     "execution_count": 7,
     "metadata": {},
     "output_type": "execute_result"
    }
   ],
   "source": [
    "py.iplot(fig_metrics_funnel)"
   ]
  },
  {
   "cell_type": "markdown",
   "metadata": {
    "slideshow": {
     "slide_type": "subslide"
    }
   },
   "source": [
    "### Understanding user flow by channel contribution"
   ]
  },
  {
   "cell_type": "code",
   "execution_count": 8,
   "metadata": {
    "slideshow": {
     "slide_type": "subslide"
    }
   },
   "outputs": [],
   "source": [
    "# group by metrics and then categories (channels), summing their user counts.\n",
    "metrics_by_channels = df.groupby(['metric', 'category'])[\"value\"].sum().reset_index()\n",
    "\n",
    "# re-shape results to use 'metric' as index, and 'categories' as columns.\n",
    "metrics_by_channels = metrics_by_channels.groupby('metric').apply(\n",
    "    lambda f: f.groupby('category').apply(\n",
    "        lambda g: g['value'].values\n",
    "    ))\n",
    "\n",
    "# calculate sums of all user counts across each metric and sort data frame by these sums (largest to smallest)\n",
    "metrics_by_channels['sum'] = df.groupby('metric')['value'].sum()\n",
    "metrics_by_channels.sort_values('sum', ascending=False, inplace=True)\n",
    "\n",
    "# extract sums into new structure to reference later. \n",
    "totals = metrics_by_channels['sum'].values\n",
    "\n",
    "# drop the 'sum' column from the data frame.\n",
    "metrics_by_channels.drop('sum', axis=1, inplace=True)\n",
    "\n",
    "# remove any data for the 'app_store' metric. We aren't interested in this for the funnel chart.\n",
    "metrics_by_channels = metrics_by_channels[~metrics_by_channels.index.str.contains(\"app_store\")]"
   ]
  },
  {
   "cell_type": "code",
   "execution_count": 9,
   "metadata": {
    "slideshow": {
     "slide_type": "subslide"
    }
   },
   "outputs": [
    {
     "data": {
      "text/html": [
       "<iframe id=\"igraph\" scrolling=\"no\" style=\"border:none;\" seamless=\"seamless\" src=\"https://plot.ly/~cgddrd/288.embed\" height=\"525px\" width=\"800px\"></iframe>"
      ],
      "text/plain": [
       "<plotly.tools.PlotlyDisplay object>"
      ]
     },
     "execution_count": 9,
     "metadata": {},
     "output_type": "execute_result"
    }
   ],
   "source": [
    "fig = utils.plot_stacked_funnel_chart(metrics_by_channels, totals, colors, 'Metrics by Channel Contribution Funnel')\n",
    "py.iplot(fig)"
   ]
  },
  {
   "cell_type": "code",
   "execution_count": 10,
   "metadata": {
    "slideshow": {
     "slide_type": "subslide"
    }
   },
   "outputs": [
    {
     "data": {
      "image/png": "[encoded data removed]",
      "text/plain": [
       "<IPython.core.display.Image object>"
      ]
     },
     "metadata": {},
     "output_type": "display_data"
    }
   ],
   "source": [
    "py.image.ishow(fig)"
   ]
  },
  {
   "cell_type": "markdown",
   "metadata": {
    "slideshow": {
     "slide_type": "slide"
    }
   },
   "source": [
    "## Quote conversion"
   ]
  },
  {
   "cell_type": "code",
   "execution_count": 11,
   "metadata": {
    "slideshow": {
     "slide_type": "skip"
    }
   },
   "outputs": [],
   "source": [
    "df = pd.read_csv('../data/raw/ga.csv', header=0, parse_dates=['date'], date_parser=utils.parse_csv_date, index_col='date')"
   ]
  },
  {
   "cell_type": "code",
   "execution_count": 12,
   "metadata": {
    "slideshow": {
     "slide_type": "subslide"
    }
   },
   "outputs": [],
   "source": [
    "def calc_conversion_rate(visitors, save_quotes):\n",
    "    return save_quotes/visitors * 100"
   ]
  },
  {
   "cell_type": "markdown",
   "metadata": {
    "slideshow": {
     "slide_type": "subslide"
    }
   },
   "source": [
    "### Quote conversion by week"
   ]
  },
  {
   "cell_type": "code",
   "execution_count": 13,
   "metadata": {
    "slideshow": {
     "slide_type": "subslide"
    }
   },
   "outputs": [
    {
     "data": {
      "text/html": [
       "<div>\n",
       "<style scoped>\n",
       "    .dataframe tbody tr th:only-of-type {\n",
       "        vertical-align: middle;\n",
       "    }\n",
       "\n",
       "    .dataframe tbody tr th {\n",
       "        vertical-align: top;\n",
       "    }\n",
       "\n",
       "    .dataframe thead th {\n",
       "        text-align: right;\n",
       "    }\n",
       "</style>\n",
       "<table border=\"1\" class=\"dataframe\">\n",
       "  <thead>\n",
       "    <tr style=\"text-align: right;\">\n",
       "      <th></th>\n",
       "      <th>visitors</th>\n",
       "      <th>save_quote</th>\n",
       "      <th>conversion_rate</th>\n",
       "    </tr>\n",
       "    <tr>\n",
       "      <th>date</th>\n",
       "      <th></th>\n",
       "      <th></th>\n",
       "      <th></th>\n",
       "    </tr>\n",
       "  </thead>\n",
       "  <tbody>\n",
       "    <tr>\n",
       "      <th>2017-12-10</th>\n",
       "      <td>27384</td>\n",
       "      <td>2101</td>\n",
       "      <td>7.672363</td>\n",
       "    </tr>\n",
       "    <tr>\n",
       "      <th>2017-12-17</th>\n",
       "      <td>18917</td>\n",
       "      <td>1693</td>\n",
       "      <td>8.949622</td>\n",
       "    </tr>\n",
       "    <tr>\n",
       "      <th>2017-12-24</th>\n",
       "      <td>10009</td>\n",
       "      <td>1020</td>\n",
       "      <td>10.190828</td>\n",
       "    </tr>\n",
       "    <tr>\n",
       "      <th>2017-12-31</th>\n",
       "      <td>8717</td>\n",
       "      <td>1042</td>\n",
       "      <td>11.953654</td>\n",
       "    </tr>\n",
       "    <tr>\n",
       "      <th>2018-01-07</th>\n",
       "      <td>15611</td>\n",
       "      <td>1850</td>\n",
       "      <td>11.850618</td>\n",
       "    </tr>\n",
       "  </tbody>\n",
       "</table>\n",
       "</div>"
      ],
      "text/plain": [
       "            visitors  save_quote  conversion_rate\n",
       "date                                             \n",
       "2017-12-10     27384        2101         7.672363\n",
       "2017-12-17     18917        1693         8.949622\n",
       "2017-12-24     10009        1020        10.190828\n",
       "2017-12-31      8717        1042        11.953654\n",
       "2018-01-07     15611        1850        11.850618"
      ]
     },
     "execution_count": 13,
     "metadata": {},
     "output_type": "execute_result"
    }
   ],
   "source": [
    "# get weekly totals for 'visitor' and 'save_quote' metrics.\n",
    "weekly_visitor_totals = df[df['metric'] == 'visitors'].groupby(pd.Grouper(freq='W'))['value'].sum()\n",
    "weekly_save_quote_totals = df[df['metric'] == 'save_quote'].groupby(pd.Grouper(freq='W'))['value'].sum()\n",
    "\n",
    "# create data frame to store grouped totals.\n",
    "metrics = pd.DataFrame(weekly_visitor_totals)\n",
    "metrics['save_quote'] = weekly_save_quote_totals\n",
    "metrics.columns = ['visitors', 'save_quote']\n",
    "\n",
    "# calculate connversion rates for each week.\n",
    "metrics['conversion_rate'] = calc_conversion_rate(metrics['visitors'], metrics['save_quote'])\n",
    "\n",
    "metrics.head()"
   ]
  },
  {
   "cell_type": "code",
   "execution_count": 14,
   "metadata": {
    "slideshow": {
     "slide_type": "skip"
    }
   },
   "outputs": [],
   "source": [
    "%%capture captured\n",
    "%matplotlib inline\n",
    "plt.style.use('ggplot')\n",
    "import matplotlib.dates as mdates\n",
    "from matplotlib.dates import MO, TU, WE, TH, FR, SA, SU\n",
    "\n",
    "fig_conv_by_week, ax1 = plt.subplots(figsize=(10, 8))\n",
    "ax1.bar(metrics.index, metrics['visitors'], width=2)\n",
    "\n",
    "ax1.set_ylabel('visitors')\n",
    "ax1.grid(False)\n",
    "\n",
    "ax2 = ax1.twinx()\n",
    "\n",
    "ax2.plot(metrics.index, metrics['conversion_rate'], 'b')\n",
    "\n",
    "#set ticks every week (Sunday)\n",
    "ax2.xaxis.set_major_locator(mdates.WeekdayLocator(byweekday=SU))\n",
    "\n",
    "# set minor ticks to every day\n",
    "ax2.xaxis.set_minor_locator(mdates.DayLocator())\n",
    "\n",
    "#set major ticks format\n",
    "ax2.xaxis.set_major_formatter(mdates.DateFormatter('%d %b'))\n",
    "\n",
    "ax2.set_ylabel('conversion rate', color='b')\n",
    "ax2.tick_params('y', colors='b')\n",
    "ax2.set_ylim(bottom = 0, top = (ax2.get_ylim()[1] * 2))\n",
    "\n",
    "fig_conv_by_week.suptitle('Quote conversion over time')\n",
    "\n",
    "# use ';' to suppress additional output.\n",
    "plt.show();"
   ]
  },
  {
   "cell_type": "code",
   "execution_count": 15,
   "metadata": {
    "slideshow": {
     "slide_type": "subslide"
    }
   },
   "outputs": [
    {
     "data": {
      "image/png": "[encoded data removed]",
      "text/plain": [
       "<Figure size 720x576 with 2 Axes>"
      ]
     },
     "execution_count": 15,
     "metadata": {},
     "output_type": "execute_result"
    }
   ],
   "source": [
    "fig_conv_by_week"
   ]
  },
  {
   "cell_type": "markdown",
   "metadata": {
    "slideshow": {
     "slide_type": "subslide"
    }
   },
   "source": [
    "### Quote conversion by channel"
   ]
  },
  {
   "cell_type": "code",
   "execution_count": 16,
   "metadata": {
    "slideshow": {
     "slide_type": "skip"
    }
   },
   "outputs": [],
   "source": [
    "df = pd.read_csv('../data/raw/ga.csv', header=0, parse_dates=['date'], date_parser=utils.parse_csv_date, index_col='date')"
   ]
  },
  {
   "cell_type": "code",
   "execution_count": 17,
   "metadata": {
    "slideshow": {
     "slide_type": "subslide"
    }
   },
   "outputs": [
    {
     "data": {
      "text/html": [
       "<div>\n",
       "<style scoped>\n",
       "    .dataframe tbody tr th:only-of-type {\n",
       "        vertical-align: middle;\n",
       "    }\n",
       "\n",
       "    .dataframe tbody tr th {\n",
       "        vertical-align: top;\n",
       "    }\n",
       "\n",
       "    .dataframe thead th {\n",
       "        text-align: right;\n",
       "    }\n",
       "</style>\n",
       "<table border=\"1\" class=\"dataframe\">\n",
       "  <thead>\n",
       "    <tr style=\"text-align: right;\">\n",
       "      <th></th>\n",
       "      <th>value</th>\n",
       "    </tr>\n",
       "    <tr>\n",
       "      <th>category</th>\n",
       "      <th></th>\n",
       "    </tr>\n",
       "  </thead>\n",
       "  <tbody>\n",
       "    <tr>\n",
       "      <th>Branded Search</th>\n",
       "      <td>16.758545</td>\n",
       "    </tr>\n",
       "    <tr>\n",
       "      <th>Direct Traffic</th>\n",
       "      <td>2.467282</td>\n",
       "    </tr>\n",
       "    <tr>\n",
       "      <th>Generic Search</th>\n",
       "      <td>9.319679</td>\n",
       "    </tr>\n",
       "    <tr>\n",
       "      <th>Organic</th>\n",
       "      <td>11.934185</td>\n",
       "    </tr>\n",
       "    <tr>\n",
       "      <th>Paid search</th>\n",
       "      <td>6.427023</td>\n",
       "    </tr>\n",
       "    <tr>\n",
       "      <th>Referral link</th>\n",
       "      <td>28.259752</td>\n",
       "    </tr>\n",
       "  </tbody>\n",
       "</table>\n",
       "</div>"
      ],
      "text/plain": [
       "                    value\n",
       "category                 \n",
       "Branded Search  16.758545\n",
       "Direct Traffic   2.467282\n",
       "Generic Search   9.319679\n",
       "Organic         11.934185\n",
       "Paid search      6.427023\n",
       "Referral link   28.259752"
      ]
     },
     "execution_count": 17,
     "metadata": {},
     "output_type": "execute_result"
    }
   ],
   "source": [
    "# group data by category (channel) and then by metric.\n",
    "metric_summaries_by_channel = df.groupby(['category', 'metric']).sum()\n",
    "\n",
    "# calculate conversion rate for each category (channel)\n",
    "conversion_rates_by_channel = metric_summaries_by_channel.groupby(level=0) \\\n",
    "                                .apply(lambda x: calc_conversion_rate(x.loc[(x.name, 'visitors')], \n",
    "                                                      x.loc[(x.name, 'save_quote')]))\n",
    "conversion_rates_by_channel"
   ]
  },
  {
   "cell_type": "code",
   "execution_count": 18,
   "metadata": {
    "slideshow": {
     "slide_type": "skip"
    }
   },
   "outputs": [
    {
     "data": {
      "text/html": [
       "<div>\n",
       "<style scoped>\n",
       "    .dataframe tbody tr th:only-of-type {\n",
       "        vertical-align: middle;\n",
       "    }\n",
       "\n",
       "    .dataframe tbody tr th {\n",
       "        vertical-align: top;\n",
       "    }\n",
       "\n",
       "    .dataframe thead th {\n",
       "        text-align: right;\n",
       "    }\n",
       "</style>\n",
       "<table border=\"1\" class=\"dataframe\">\n",
       "  <thead>\n",
       "    <tr style=\"text-align: right;\">\n",
       "      <th>metric</th>\n",
       "      <th>app_store</th>\n",
       "      <th>complete_quote</th>\n",
       "      <th>save_quote</th>\n",
       "      <th>start_quote</th>\n",
       "      <th>visitors</th>\n",
       "      <th>sum</th>\n",
       "    </tr>\n",
       "    <tr>\n",
       "      <th>category</th>\n",
       "      <th></th>\n",
       "      <th></th>\n",
       "      <th></th>\n",
       "      <th></th>\n",
       "      <th></th>\n",
       "      <th></th>\n",
       "    </tr>\n",
       "  </thead>\n",
       "  <tbody>\n",
       "    <tr>\n",
       "      <th>Generic Search</th>\n",
       "      <td>[4231]</td>\n",
       "      <td>[29696]</td>\n",
       "      <td>[11003]</td>\n",
       "      <td>[37415]</td>\n",
       "      <td>[118062]</td>\n",
       "      <td>200407</td>\n",
       "    </tr>\n",
       "    <tr>\n",
       "      <th>Paid search</th>\n",
       "      <td>[1361]</td>\n",
       "      <td>[17662]</td>\n",
       "      <td>[4300]</td>\n",
       "      <td>[23565]</td>\n",
       "      <td>[66905]</td>\n",
       "      <td>113793</td>\n",
       "    </tr>\n",
       "    <tr>\n",
       "      <th>Referral link</th>\n",
       "      <td>[1361]</td>\n",
       "      <td>[10383]</td>\n",
       "      <td>[6049]</td>\n",
       "      <td>[11900]</td>\n",
       "      <td>[21405]</td>\n",
       "      <td>51098</td>\n",
       "    </tr>\n",
       "    <tr>\n",
       "      <th>Direct Traffic</th>\n",
       "      <td>[793]</td>\n",
       "      <td>[1427]</td>\n",
       "      <td>[690]</td>\n",
       "      <td>[1730]</td>\n",
       "      <td>[27966]</td>\n",
       "      <td>32606</td>\n",
       "    </tr>\n",
       "    <tr>\n",
       "      <th>Organic</th>\n",
       "      <td>[1328]</td>\n",
       "      <td>[4604]</td>\n",
       "      <td>[1719]</td>\n",
       "      <td>[5264]</td>\n",
       "      <td>[14404]</td>\n",
       "      <td>27319</td>\n",
       "    </tr>\n",
       "    <tr>\n",
       "      <th>Branded Search</th>\n",
       "      <td>[637]</td>\n",
       "      <td>[4543]</td>\n",
       "      <td>[1824]</td>\n",
       "      <td>[5223]</td>\n",
       "      <td>[10884]</td>\n",
       "      <td>23111</td>\n",
       "    </tr>\n",
       "  </tbody>\n",
       "</table>\n",
       "</div>"
      ],
      "text/plain": [
       "metric         app_store complete_quote save_quote start_quote  visitors  \\\n",
       "category                                                                   \n",
       "Generic Search    [4231]        [29696]    [11003]     [37415]  [118062]   \n",
       "Paid search       [1361]        [17662]     [4300]     [23565]   [66905]   \n",
       "Referral link     [1361]        [10383]     [6049]     [11900]   [21405]   \n",
       "Direct Traffic     [793]         [1427]      [690]      [1730]   [27966]   \n",
       "Organic           [1328]         [4604]     [1719]      [5264]   [14404]   \n",
       "Branded Search     [637]         [4543]     [1824]      [5223]   [10884]   \n",
       "\n",
       "metric             sum  \n",
       "category                \n",
       "Generic Search  200407  \n",
       "Paid search     113793  \n",
       "Referral link    51098  \n",
       "Direct Traffic   32606  \n",
       "Organic          27319  \n",
       "Branded Search   23111  "
      ]
     },
     "execution_count": 18,
     "metadata": {},
     "output_type": "execute_result"
    }
   ],
   "source": [
    "# group data by category (channel) and then by metric, summing all user hits.\n",
    "data = df.groupby(['category', 'metric'])[\"value\"].sum().sort_values(ascending=False).reset_index()\n",
    "\n",
    "# re-shape results to use 'metric' as index, and 'categories' as columns.\n",
    "data = data.groupby('metric').apply(\n",
    "    lambda f: f.groupby('category').apply(\n",
    "        lambda g: g['value'].values\n",
    "    ))\n",
    "\n",
    "# reverse the shape of the data frame to make categories the index, and metrics the columns.\n",
    "data = data.T\n",
    "\n",
    "# calculate user hit totals across each channel and order data frame (largest to smallest)\n",
    "data['sum'] = df.groupby('category')['value'].sum()\n",
    "data = data.sort_values(by='sum', ascending=False)\n",
    "data"
   ]
  },
  {
   "cell_type": "code",
   "execution_count": 19,
   "metadata": {
    "slideshow": {
     "slide_type": "skip"
    }
   },
   "outputs": [],
   "source": [
    "data.drop('sum', axis=1, inplace=True) "
   ]
  },
  {
   "cell_type": "code",
   "execution_count": 20,
   "metadata": {
    "slideshow": {
     "slide_type": "skip"
    }
   },
   "outputs": [
    {
     "data": {
      "text/html": [
       "<div>\n",
       "<style scoped>\n",
       "    .dataframe tbody tr th:only-of-type {\n",
       "        vertical-align: middle;\n",
       "    }\n",
       "\n",
       "    .dataframe tbody tr th {\n",
       "        vertical-align: top;\n",
       "    }\n",
       "\n",
       "    .dataframe thead th {\n",
       "        text-align: right;\n",
       "    }\n",
       "</style>\n",
       "<table border=\"1\" class=\"dataframe\">\n",
       "  <thead>\n",
       "    <tr style=\"text-align: right;\">\n",
       "      <th></th>\n",
       "      <th>value</th>\n",
       "    </tr>\n",
       "    <tr>\n",
       "      <th>category</th>\n",
       "      <th></th>\n",
       "    </tr>\n",
       "  </thead>\n",
       "  <tbody>\n",
       "    <tr>\n",
       "      <th>Generic Search</th>\n",
       "      <td>9.319679</td>\n",
       "    </tr>\n",
       "    <tr>\n",
       "      <th>Paid search</th>\n",
       "      <td>6.427023</td>\n",
       "    </tr>\n",
       "    <tr>\n",
       "      <th>Referral link</th>\n",
       "      <td>28.259752</td>\n",
       "    </tr>\n",
       "    <tr>\n",
       "      <th>Direct Traffic</th>\n",
       "      <td>2.467282</td>\n",
       "    </tr>\n",
       "    <tr>\n",
       "      <th>Organic</th>\n",
       "      <td>11.934185</td>\n",
       "    </tr>\n",
       "    <tr>\n",
       "      <th>Branded Search</th>\n",
       "      <td>16.758545</td>\n",
       "    </tr>\n",
       "  </tbody>\n",
       "</table>\n",
       "</div>"
      ],
      "text/plain": [
       "                    value\n",
       "category                 \n",
       "Generic Search   9.319679\n",
       "Paid search      6.427023\n",
       "Referral link   28.259752\n",
       "Direct Traffic   2.467282\n",
       "Organic         11.934185\n",
       "Branded Search  16.758545"
      ]
     },
     "execution_count": 20,
     "metadata": {},
     "output_type": "execute_result"
    }
   ],
   "source": [
    "conversion_rates_by_channel = conversion_rates_by_channel.reindex(data.index)\n",
    "conversion_rates_by_channel"
   ]
  },
  {
   "cell_type": "code",
   "execution_count": 21,
   "metadata": {
    "slideshow": {
     "slide_type": "skip"
    }
   },
   "outputs": [],
   "source": [
    "%%capture captured\n",
    "import matplotlib.pyplot as plt\n",
    "\n",
    "ind = np.arange(len(data.index))\n",
    "\n",
    "fig_conv_by_channel, ax = plt.subplots(figsize=(10, 8))\n",
    "width = 0.5   \n",
    "\n",
    "i = 0\n",
    "ny = len(data.index)\n",
    "cum_size = np.zeros(ny)\n",
    "\n",
    "# reverse the order of the columns to render 'visitors' column first.\n",
    "for column in data.columns[::-1]:\n",
    "    \n",
    "    dat = np.concatenate(data[column].values, axis=0)\n",
    "    ax.bar(ind, dat, width, bottom=cum_size, label=column)\n",
    "    \n",
    "    cum_size += dat\n",
    "\n",
    "ax.set_ylabel('No of Hits')\n",
    "ax.set_xticks(np.arange(len(data.index)))\n",
    "ax.set_xticklabels(data.index)\n",
    "ax.legend()\n",
    "\n",
    "ax2 = ax.twinx()\n",
    "\n",
    "ax2.plot(data.index, conversion_rates_by_channel.values, 'b')\n",
    "\n",
    "ax2.set_ylabel('conversion rate', color='b')\n",
    "ax2.tick_params('y', colors='b')\n",
    "ax2.set_ylim(bottom = 0, top = (ax2.get_ylim()[1] * 2))\n",
    "\n",
    "fig_conv_by_channel.suptitle('Quote conversion by channel')"
   ]
  },
  {
   "cell_type": "code",
   "execution_count": 22,
   "metadata": {
    "slideshow": {
     "slide_type": "subslide"
    }
   },
   "outputs": [
    {
     "data": {
      "image/png": "[encoded data removed]",
      "text/plain": [
       "<Figure size 720x576 with 2 Axes>"
      ]
     },
     "execution_count": 22,
     "metadata": {},
     "output_type": "execute_result"
    }
   ],
   "source": [
    "fig_conv_by_channel"
   ]
  },
  {
   "cell_type": "markdown",
   "metadata": {
    "slideshow": {
     "slide_type": "slide"
    }
   },
   "source": [
    "## Channel contributions to app store visits and saved quotes over time"
   ]
  },
  {
   "cell_type": "code",
   "execution_count": 23,
   "metadata": {
    "slideshow": {
     "slide_type": "skip"
    }
   },
   "outputs": [],
   "source": [
    "df = pd.read_csv('../data/raw/ga.csv', header=0, parse_dates=['date'], date_parser=utils.parse_csv_date, index_col='date')"
   ]
  },
  {
   "cell_type": "code",
   "execution_count": 24,
   "metadata": {
    "slideshow": {
     "slide_type": "subslide"
    }
   },
   "outputs": [],
   "source": [
    "# extract only data for 'app_store' or 'save_quote' metrics.\n",
    "app_store_save_quote_data = df[(df['metric'] == 'app_store') | (df['metric'] == 'save_quote')]\n",
    "\n",
    "# extract unique categories (channels) for data sub set.\n",
    "categories = app_store_save_quote_data.groupby('metric')\n",
    "\n",
    "category_metric_summary_data = list()\n",
    "\n",
    "for key, values in categories:\n",
    "\n",
    "    # group categories by weeks and then sum the metric counts.\n",
    "    agg = values.groupby([pd.Grouper(freq='W'), 'category']).sum()\n",
    "    \n",
    "    # re-shape the data to use 'date' as index, and 'category' as columns.\n",
    "    p = agg.reset_index().pivot('date', 'category', 'value')\n",
    "    \n",
    "    category_metric_summary_data.append(p)"
   ]
  },
  {
   "cell_type": "code",
   "execution_count": 25,
   "metadata": {
    "slideshow": {
     "slide_type": "subslide"
    }
   },
   "outputs": [
    {
     "data": {
      "image/png": "[encoded data removed]",
      "text/plain": [
       "<Figure size 864x720 with 1 Axes>"
      ]
     },
     "metadata": {},
     "output_type": "display_data"
    }
   ],
   "source": [
    "utils.plot_clustered_stacked(category_metric_summary_data, [\"app_store\", \"save_quote\"], H='//', xfmt=utils.x_date_format, title='Metric contributions by channel');"
   ]
  },
  {
   "cell_type": "markdown",
   "metadata": {
    "slideshow": {
     "slide_type": "slide"
    }
   },
   "source": [
    "## Conclusion\n",
    "\n",
    "* **Referral link** is the most 'critical' channel with respect to quote conversion (28% between Dec 2017 and Feb 2018). **Potential for further investigation to highlight contribution between £25 voucher offer factor vs. customer trust factor**.<br /><br />\n",
    "\n",
    "* **Generic Search** is the route through which the largest proportion of website traffic arrives compared to other channels (45% share of all traffic between Dec 2017 and Feb 2018).<br /><br />\n",
    "\n",
    "* Across all channels, contributions to App Store visits are low. Perhaps monitoring traffic directly via app stores would provide more useful metrics in this case.<br /><br />"
   ]
  },
  {
   "cell_type": "markdown",
   "metadata": {
    "slideshow": {
     "slide_type": "subslide"
    }
   },
   "source": [
    "## Conclusion\n",
    "\n",
    "* **Loss of 62%** between visitors to site, and those who **begin a quote** between Dec 2017 and Feb 2018.<br /><br />\n",
    "\n",
    "* **Loss of 73.7%** between visitors to site, and those who **complete a quote** between Dec 2017 and Feb 2018.<br /><br />\n",
    "\n",
    "* Increase in quote conversion and visitor numbers observed immediately after Christmas period. Potential for additional marketing and/or special offers as people look to cut costs over Winter period."
   ]
  },
  {
   "cell_type": "code",
   "execution_count": null,
   "metadata": {},
   "outputs": [],
   "source": []
  }
 ],
 "metadata": {
  "celltoolbar": "Slideshow",
  "kernelspec": {
   "display_name": "Python 3",
   "language": "python",
   "name": "python3"
  },
  "language_info": {
   "codemirror_mode": {
    "name": "ipython",
    "version": 3
   },
   "file_extension": ".py",
   "mimetype": "text/x-python",
   "name": "python",
   "nbconvert_exporter": "python",
   "pygments_lexer": "ipython3",
   "version": "3.6.5"
  }
 },
 "nbformat": 4,
 "nbformat_minor": 2
}
